{
 "cells": [
  {
   "cell_type": "markdown",
   "metadata": {},
   "source": [
    "1 การรับ Source จากแหล่งต่างๆ"
   ]
  },
  {
   "cell_type": "markdown",
   "metadata": {},
   "source": [
    "1.1 การรับภาพจากไฟล์ภาพ"
   ]
  },
  {
   "cell_type": "code",
   "execution_count": null,
   "metadata": {},
   "outputs": [],
   "source": [
    "#อ่านภาพ\n",
    "import cv2\n",
    "img = cv2.imread(\"image/cat.jpg\")\n",
    "print(type(img.ndim))\n",
    "print(img)"
   ]
  },
  {
   "cell_type": "code",
   "execution_count": 1,
   "metadata": {},
   "outputs": [],
   "source": [
    "#แสดงผลภาพ\n",
    "import cv2\n",
    "img = cv2.imread(\"image/cat.jpg\")\n",
    "\n",
    "#แสดงภาพ\n",
    "cv2.imshow(\"Output\",img)\n",
    "cv2.waitKey(0)\n",
    "cv2.destroyAllWindows()"
   ]
  },
  {
   "cell_type": "markdown",
   "metadata": {},
   "source": [
    "1.2 การรับภาพแบบขาวดำ"
   ]
  },
  {
   "cell_type": "code",
   "execution_count": 2,
   "metadata": {},
   "outputs": [],
   "source": [
    "#แสดงผลภาพ\n",
    "import cv2\n",
    "img = cv2.imread(\"image/cat.jpg\",0)\n",
    "\n",
    "#แสดงภาพ\n",
    "cv2.imshow(\"Output\",img)\n",
    "cv2.waitKey(0)\n",
    "cv2.destroyAllWindows()"
   ]
  },
  {
   "cell_type": "code",
   "execution_count": 3,
   "metadata": {},
   "outputs": [],
   "source": [
    "#แสดงผลภาพ\n",
    "import cv2\n",
    "img = cv2.imread(\"image/cat.jpg\")\n",
    "gray = cv2.cvtColor(img,cv2.COLOR_BGR2GRAY)\n",
    "#แสดงภาพ\n",
    "cv2.imshow(\"Original\",img)\n",
    "cv2.imshow(\"Gray\",gray)\n",
    "cv2.waitKey(0)\n",
    "cv2.destroyAllWindows()"
   ]
  },
  {
   "cell_type": "markdown",
   "metadata": {},
   "source": [
    "1.3 การรับวิดีโอ"
   ]
  },
  {
   "cell_type": "code",
   "execution_count": 4,
   "metadata": {},
   "outputs": [],
   "source": [
    "#เปิดวิดีโอด้วย OpenCV\n",
    "import cv2 \n",
    "\n",
    "cap = cv2.VideoCapture(\"image/Video.mp4\")\n",
    "\n",
    "while (cap.isOpened()):\n",
    "    check , frame = cap.read() #รับภาพจากกล้อง frame ต่อ frame\n",
    "\n",
    "    if check == True :\n",
    "        cv2.imshow(\"Output\",frame)\n",
    "        if cv2.waitKey(1) & 0xFF == ord(\"e\"):\n",
    "            break\n",
    "    else :\n",
    "        break\n",
    "\n",
    "cap.release()\n",
    "cv2.destroyAllWindows()"
   ]
  },
  {
   "cell_type": "markdown",
   "metadata": {},
   "source": [
    "1.4 การรับวิดีโอขาวดำ"
   ]
  },
  {
   "cell_type": "code",
   "execution_count": 6,
   "metadata": {},
   "outputs": [],
   "source": [
    "#เปิดวิดีโอด้วย OpenCV\n",
    "import cv2 \n",
    "\n",
    "cap = cv2.VideoCapture(\"image/Video.mp4\")\n",
    "\n",
    "while (cap.isOpened()):\n",
    "    check , frame = cap.read() #รับภาพจากกล้อง frame ต่อ frame\n",
    "\n",
    "    if check == True :\n",
    "        gray_frame = cv2.cvtColor(frame, cv2.COLOR_BGR2GRAY)\n",
    "        cv2.imshow(\"Gray_Output\", gray_frame)  # แสดงผลภาพขาวดำ\n",
    "        cv2.imshow(\"Output\",frame)\n",
    "        if cv2.waitKey(1) & 0xFF == ord(\"e\"):\n",
    "            break\n",
    "    else :\n",
    "        break\n",
    "\n",
    "cap.release()\n",
    "cv2.destroyAllWindows()"
   ]
  },
  {
   "cell_type": "markdown",
   "metadata": {},
   "source": [
    "1.5 การรับภาพจากกล้อง"
   ]
  },
  {
   "cell_type": "code",
   "execution_count": null,
   "metadata": {},
   "outputs": [],
   "source": [
    "#เปิดกล้องด้วย OpenCV\n",
    "import cv2 \n",
    "\n",
    "cap = cv2.VideoCapture(0) #ถ้ามีกล้องหลายตัวให้ใช้ 0,1,2 ขึ้นอยู่กับกล้อง\n",
    "\n",
    "while (True):\n",
    "    ref , frame = cap.read() #รับภาพจากกล้อง frame ต่อ frame\n",
    "    if ref:\n",
    "        cv2.imshow(\"Output\",frame)\n",
    "        if cv2.waitKey(1) & 0xFF == ord(\"e\"):\n",
    "            break\n",
    "\n",
    "cap.release()\n",
    "cv2.destroyAllWindows()\n"
   ]
  },
  {
   "cell_type": "markdown",
   "metadata": {},
   "source": [
    "1.6 การรับกล้องเป็นภาพขาวดำ"
   ]
  },
  {
   "cell_type": "code",
   "execution_count": 10,
   "metadata": {},
   "outputs": [],
   "source": [
    "#เปิดกล้องด้วย OpenCV\n",
    "import cv2 \n",
    "\n",
    "cap = cv2.VideoCapture(0) #ถ้ามีกล้องหลายตัวให้ใช้ 0,1,2 ขึ้นอยู่กับกล้อง\n",
    "\n",
    "while (True):\n",
    "    ref , frame = cap.read() #รับภาพจากกล้อง frame ต่อ frame\n",
    "    if ref:\n",
    "        cv2.imshow(\"Output\",frame)\n",
    "        gray_frame = cv2.cvtColor(frame, cv2.COLOR_BGR2GRAY)\n",
    "        cv2.imshow(\"Gray_Output\", gray_frame)  # แสดงผลภาพขาวดำ\n",
    "        if cv2.waitKey(1) & 0xFF == ord(\"e\"):\n",
    "            break\n",
    "\n",
    "cap.release()\n",
    "cv2.destroyAllWindows()"
   ]
  },
  {
   "cell_type": "markdown",
   "metadata": {},
   "source": [
    "1.7 การ resize"
   ]
  },
  {
   "cell_type": "code",
   "execution_count": null,
   "metadata": {},
   "outputs": [],
   "source": [
    "#ปรับเปลี่ยนขนาดภาพ\n",
    "import cv2\n",
    "img = cv2.imread(\"image/cat.jpg\",0)\n",
    "imgresize = cv2.resize(img,(400,400))\n",
    "\n",
    "#แสดงภาพ\n",
    "cv2.imshow(\"Original\",img)\n",
    "cv2.imshow(\"ResizeOutput\",imgresize)\n",
    "cv2.waitKey(0)\n",
    "cv2.destroyAllWindows()"
   ]
  },
  {
   "cell_type": "code",
   "execution_count": 16,
   "metadata": {},
   "outputs": [],
   "source": [
    "#เปิดวิดีโอด้วย OpenCV\n",
    "import cv2 \n",
    "\n",
    "cap = cv2.VideoCapture(\"image/Video.mp4\")\n",
    "\n",
    "while (cap.isOpened()):\n",
    "    check , frame = cap.read() #รับภาพจากกล้อง frame ต่อ frame\n",
    "\n",
    "    if check == True :\n",
    "        frame_resize = cv2.resize(frame,(1000,1000))\n",
    "        gray_frame = cv2.cvtColor(frame_resize, cv2.COLOR_BGR2GRAY)\n",
    "        cv2.imshow(\"Gray_Output\", gray_frame)  # แสดงผลภาพขาวดำ\n",
    "        cv2.imshow(\"Output\",frame_resize)\n",
    "        if cv2.waitKey(1) & 0xFF == ord(\"e\"):\n",
    "            break\n",
    "    else :\n",
    "        break\n",
    "\n",
    "cap.release()\n",
    "cv2.destroyAllWindows()"
   ]
  },
  {
   "cell_type": "code",
   "execution_count": 18,
   "metadata": {},
   "outputs": [],
   "source": [
    "#เปิดกล้องด้วย OpenCV\n",
    "import cv2 \n",
    "\n",
    "cap = cv2.VideoCapture(0) #ถ้ามีกล้องหลายตัวให้ใช้ 0,1,2 ขึ้นอยู่กับกล้อง\n",
    "\n",
    "while (True):\n",
    "    ref , frame = cap.read() #รับภาพจากกล้อง frame ต่อ frame\n",
    "    if ref:\n",
    "        frame_resize = cv2.resize(frame,(100,100))\n",
    "        cv2.imshow(\"Output\",frame_resize)\n",
    "        gray_frame = cv2.cvtColor(frame_resize, cv2.COLOR_BGR2GRAY)\n",
    "        cv2.imshow(\"Gray_Output\", gray_frame)  # แสดงผลภาพขาวดำ\n",
    "        if cv2.waitKey(1) & 0xFF == ord(\"e\"):\n",
    "            break\n",
    "\n",
    "cap.release()\n",
    "cv2.destroyAllWindows()"
   ]
  },
  {
   "cell_type": "markdown",
   "metadata": {},
   "source": [
    "1.8 การ get size"
   ]
  },
  {
   "cell_type": "code",
   "execution_count": null,
   "metadata": {},
   "outputs": [
    {
     "name": "stdout",
     "output_type": "stream",
     "text": [
      "Video Size: 1024x1280\n",
      "Video Size: 400x400\n"
     ]
    }
   ],
   "source": [
    "import cv2\n",
    "img = cv2.imread(\"image/cat.jpg\",0)\n",
    "imgresize = cv2.resize(img,(400,400))\n",
    "\n",
    "#แสดงภาพ\n",
    "cv2.imshow(\"Original\",img)\n",
    "cv2.imshow(\"ResizeOutput\",imgresize)\n",
    "height_img, width_img = img.shape\n",
    "height_imgresize, width_imgresize = imgresize.shape\n",
    "print(f\"Video Size: {width_img}x{height_img}\")\n",
    "print(f\"Video Size: {width_imgresize}x{height_imgresize}\")\n",
    "cv2.waitKey(0)\n",
    "cv2.destroyAllWindows()"
   ]
  },
  {
   "cell_type": "code",
   "execution_count": 27,
   "metadata": {},
   "outputs": [
    {
     "name": "stdout",
     "output_type": "stream",
     "text": [
      "Video Size: 1000x1000\n",
      "Video Size: 480x360\n"
     ]
    }
   ],
   "source": [
    "#เปิดวิดีโอด้วย OpenCV\n",
    "import cv2 \n",
    "\n",
    "cap = cv2.VideoCapture(\"image/Video.mp4\")\n",
    "\n",
    "while (cap.isOpened()):\n",
    "    check , frame = cap.read() #รับภาพจากกล้อง frame ต่อ frame\n",
    "\n",
    "    if check == True :\n",
    "        frame_resize = cv2.resize(frame,(1000,1000))\n",
    "        gray_frame = cv2.cvtColor(frame_resize, cv2.COLOR_BGR2GRAY)\n",
    "        cv2.imshow(\"Gray_Output\", gray_frame)  # แสดงผลภาพขาวดำ\n",
    "        cv2.imshow(\"Output\",frame_resize)\n",
    "        if cv2.waitKey(1) & 0xFF == ord(\"e\"):\n",
    "            height_gray_frame, width_gray_frame = gray_frame.shape\n",
    "            height_frame_resize, width_frame_resize, _ = frame.shape\n",
    "            print(f\"Video Size: {width_gray_frame}x{height_gray_frame}\")\n",
    "            print(f\"Video Size: {width_frame_resize}x{height_frame_resize}\")\n",
    "            break\n",
    "    else :\n",
    "        break\n",
    "\n",
    "cap.release()\n",
    "cv2.destroyAllWindows()"
   ]
  },
  {
   "cell_type": "code",
   "execution_count": null,
   "metadata": {},
   "outputs": [
    {
     "name": "stdout",
     "output_type": "stream",
     "text": [
      "Video Size: 640x480\n",
      "Video Size: 100x100\n"
     ]
    }
   ],
   "source": [
    "#เปิดกล้องด้วย OpenCV\n",
    "import cv2 \n",
    "\n",
    "cap = cv2.VideoCapture(0) #ถ้ามีกล้องหลายตัวให้ใช้ 0,1,2 ขึ้นอยู่กับกล้อง\n",
    "\n",
    "while (True):\n",
    "    ref , frame = cap.read() #รับภาพจากกล้อง frame ต่อ frame\n",
    "    if ref:\n",
    "        frame_resize = cv2.resize(frame,(100,100))\n",
    "        cv2.imshow(\"Output\",frame_resize)\n",
    "        gray_frame = cv2.cvtColor(frame_resize, cv2.COLOR_BGR2GRAY)\n",
    "        cv2.imshow(\"Gray_Output\", gray_frame)  # แสดงผลภาพขาวดำ\n",
    "        if cv2.waitKey(1) & 0xFF == ord(\"e\"):\n",
    "            height_gray_frame, width_gray_frame = gray_frame.shape\n",
    "            width = int(cap.get(cv2.CAP_PROP_FRAME_WIDTH))  # ความกว้าง\n",
    "            height = int(cap.get(cv2.CAP_PROP_FRAME_HEIGHT))  # ความสูง\n",
    "            print(f\"Video Size: {width}x{height}\")\n",
    "            print(f\"Video Size: {width_gray_frame}x{height_gray_frame}\")\n",
    "            break\n",
    "\n",
    "cap.release()\n",
    "cv2.destroyAllWindows()"
   ]
  },
  {
   "cell_type": "markdown",
   "metadata": {},
   "source": [
    "2. การบันทึก"
   ]
  },
  {
   "cell_type": "markdown",
   "metadata": {},
   "source": [
    "2.1 การบันทึกรูปภาพ"
   ]
  },
  {
   "cell_type": "code",
   "execution_count": null,
   "metadata": {},
   "outputs": [],
   "source": [
    "#การเขียนภาพ\n",
    "import cv2 \n",
    "\n",
    "img = cv2.imread(\"image/cat.jpg\",0)\n",
    "imgresize = cv2.resize(img,(400,400))\n",
    "cv2.imshow(\"My Cat\",imgresize)\n",
    "\n",
    "cv2.imwrite(\"output.jpg\",imgresize)\n",
    "cv2.waitKey(0)\n",
    "cv2.destroyAllWindows()\n"
   ]
  },
  {
   "cell_type": "markdown",
   "metadata": {},
   "source": [
    "2.2 การบันทึกวิดีโอ"
   ]
  },
  {
   "cell_type": "code",
   "execution_count": null,
   "metadata": {},
   "outputs": [],
   "source": [
    "#การบันทึกวิดีโอ\n",
    "import cv2 \n",
    "\n",
    "cap = cv2.VideoCapture(0)\n",
    "fourcc = cv2.VideoWriter_fourcc(*'XVID') #ฟอร์แมต (codec) ที่จะใช้ในการบีบอัดวิดีโอ\n",
    "result = cv2.VideoWriter(\"output.avi\",fourcc,60.0,(640,480))\n",
    "\n",
    "while (cap.isOpened()):\n",
    "    check , frame = cap.read() #รับภาพจากกล้อง frame ต่อ frame\n",
    "\n",
    "    if check == True :\n",
    "        cv2.imshow(\"Output\",frame)\n",
    "        result.write(frame)\n",
    "        if cv2.waitKey(1) & 0xFF == ord(\"e\"):\n",
    "            break\n",
    "\n",
    "result.release()\n",
    "cap.release()\n",
    "cv2.destroyAllWindows()\n"
   ]
  },
  {
   "cell_type": "markdown",
   "metadata": {},
   "source": [
    "2.3 การถ่ายภาพจากกล้อง"
   ]
  },
  {
   "cell_type": "code",
   "execution_count": 33,
   "metadata": {},
   "outputs": [
    {
     "name": "stdout",
     "output_type": "stream",
     "text": [
      "Saved: save_img\\output0.jpg\n",
      "Saved: save_img\\output1.jpg\n",
      "Saved: save_img\\output2.jpg\n",
      "Saved: save_img\\output3.jpg\n",
      "Saved: save_img\\output4.jpg\n",
      "Saved: save_img\\output5.jpg\n",
      "Saved: save_img\\output6.jpg\n"
     ]
    }
   ],
   "source": [
    "import cv2\n",
    "import os\n",
    "\n",
    "# เปิดกล้อง\n",
    "cap = cv2.VideoCapture(0)\n",
    "\n",
    "# โฟลเดอร์ที่ใช้บันทึกภาพ\n",
    "output_folder = r\"save_img\"  # กำหนดพาธให้ถูกต้อง\n",
    "os.makedirs(output_folder, exist_ok=True)  # สร้างโฟลเดอร์หากยังไม่มี\n",
    "\n",
    "picture_num = 0  # ตัวนับไฟล์ภาพ\n",
    "\n",
    "while cap.isOpened():\n",
    "    check, frame = cap.read()  # รับภาพจากกล้อง frame ต่อ frame\n",
    "\n",
    "    if check:\n",
    "        cv2.imshow(\"Output\", frame)  # แสดงภาพที่ได้จากกล้อง\n",
    "\n",
    "        # กด 't' เพื่อบันทึกภาพ\n",
    "        if cv2.waitKey(1) & 0xFF == ord(\"t\"):\n",
    "            filename = os.path.join(output_folder, f\"output{picture_num}.jpg\")\n",
    "            cv2.imwrite(filename, frame)  # บันทึกภาพ\n",
    "            print(f\"Saved: {filename}\")\n",
    "            picture_num += 1  # เพิ่มตัวนับ\n",
    "\n",
    "        # กด 'e' เพื่อออกจากโปรแกรม\n",
    "        elif cv2.waitKey(1) & 0xFF == ord(\"e\"):\n",
    "            break\n",
    "    else:\n",
    "        print(\"Failed to capture frame.\")\n",
    "        break\n",
    "\n",
    "# ปิดกล้องและหน้าต่างแสดงผล\n",
    "cap.release()\n",
    "cv2.destroyAllWindows()\n"
   ]
  },
  {
   "cell_type": "markdown",
   "metadata": {},
   "source": [
    "3. การเขียนลงบนภาพ"
   ]
  },
  {
   "cell_type": "markdown",
   "metadata": {},
   "source": [
    "3.1 Line"
   ]
  },
  {
   "cell_type": "code",
   "execution_count": 37,
   "metadata": {},
   "outputs": [],
   "source": [
    "import cv2\n",
    "\n",
    "#อ่านภาพ\n",
    "img = cv2.imread(\"image/cat.jpg\")\n",
    "\n",
    "#กำหนดขนาด\n",
    "imgresize = cv2.resize(img,(700,700))\n",
    "\n",
    "\n",
    "#วาดเส้นตรง\n",
    "# line (ภาพ , จุดเริ่มต้น (x,y) , จุดสุดท้าย (x,y), สี (BGR) ,ความหนา)\n",
    "cv2.line(imgresize,(100,100),(500,200),(255,0,0),10)\n",
    "cv2.arrowedLine(imgresize,(20,0),(400,400),(0,255,0),10)\n",
    "cv2.arrowedLine(imgresize,(0,0),(600,400),(0,0,255),10)\n",
    "\n",
    "cv2.imshow(\"Output\",imgresize)\n",
    "cv2.waitKey(0)\n",
    "cv2.destroyAllWindows()"
   ]
  },
  {
   "cell_type": "markdown",
   "metadata": {},
   "source": [
    "Exercise: ให้วาดเส้นบนภาพที่รับจากกล้อง"
   ]
  },
  {
   "cell_type": "markdown",
   "metadata": {},
   "source": [
    "3.2 Rectangle"
   ]
  },
  {
   "cell_type": "code",
   "execution_count": 40,
   "metadata": {},
   "outputs": [],
   "source": [
    "import cv2\n",
    "\n",
    "#อ่านภาพ\n",
    "img = cv2.imread(\"image/cat.jpg\")\n",
    "\n",
    "#กำหนดขนาด\n",
    "imgresize = cv2.resize(img,(700,700))\n",
    "\n",
    "\n",
    "#วาดสี่เหลี่ยม\n",
    "# rectangle(ภาพ,มุมที่ 1 (บนซ้าย),มุมที่ 2 (ล่างขวา),สี,ความหนา) BGR\n",
    "\n",
    "cv2.rectangle(imgresize,(100,100),(200,200),(0,0,255),-1) # เติมสีเข้าไปในกรอบ\n",
    "cv2.rectangle(imgresize,(400,400),(500,500),(255,0,255),1)\n",
    "\n",
    "cv2.imshow(\"Output\",imgresize)\n",
    "cv2.waitKey(0)\n",
    "cv2.destroyAllWindows()"
   ]
  },
  {
   "cell_type": "markdown",
   "metadata": {},
   "source": [
    "3.3 Circle"
   ]
  },
  {
   "cell_type": "code",
   "execution_count": null,
   "metadata": {},
   "outputs": [],
   "source": [
    "import cv2\n",
    "\n",
    "#อ่านภาพ\n",
    "img = cv2.imread(\"image/cat.jpg\")\n",
    "\n",
    "#กำหนดขนาด\n",
    "imgresize = cv2.resize(img,(700,700))\n",
    "\n",
    "#วาดวงกลม\n",
    "# circle(ภาพ,ตำแหน่งจุดศูนย์กลางวงกลม (x,y),รัศมี,สี,ความหนา)\n",
    "cv2.circle(imgresize,(200,200),70,(0,0,255),5)\n",
    "\n",
    "cv2.imshow(\"Output\",imgresize)\n",
    "cv2.waitKey(0)\n",
    "cv2.destroyAllWindows()"
   ]
  },
  {
   "cell_type": "markdown",
   "metadata": {},
   "source": [
    "3.4 Text"
   ]
  },
  {
   "cell_type": "code",
   "execution_count": 1,
   "metadata": {},
   "outputs": [],
   "source": [
    "import cv2\n",
    "\n",
    "#อ่านภาพ\n",
    "img = cv2.imread(\"image/cat.jpg\")\n",
    "\n",
    "#กำหนดขนาด\n",
    "imgresize = cv2.resize(img,(700,700))\n",
    "\n",
    "#วาดข้อความบนภาพ\n",
    "# putText(ภาพ,ข้อความ,พิกัดที่จะแสดงข้อความ (x,y),font,ขนาดข้อความ,สี,ความหนา) BGR\n",
    "\n",
    "cv2.putText(imgresize,\"OK\",(600,650),cv2.FONT_HERSHEY_PLAIN,3,(0,255,0),cv2.LINE_4)\n",
    "\n",
    "cv2.imshow(\"Output\",imgresize)\n",
    "cv2.waitKey(0)\n",
    "cv2.destroyAllWindows()"
   ]
  },
  {
   "cell_type": "markdown",
   "metadata": {},
   "source": [
    "Excerise แสดงวันที่และเวลาลงบนกล้อง"
   ]
  },
  {
   "cell_type": "code",
   "execution_count": 4,
   "metadata": {},
   "outputs": [
    {
     "data": {
      "text/plain": [
       "'\\n1. รูปแบบมาตรฐานที่ใช้กันทั่วไป\\n\"%Y-%m-%d %H:%M:%S\" → 2025-03-06 14:30:45\\n\"%d/%m/%Y %H:%M\" → 06/03/2025 14:30\\n\"%A, %d %B %Y\" → Thursday, 06 March 2025\\n2. ISO 8601\\ndatetime.now().isoformat() → 2025-03-06T14:30:45.123456\\n3. รูปแบบ Timestamp (Unix Epoch)\\ndatetime.now().timestamp() → 1709731845.123456\\n4. รูปแบบที่นิยมใช้ในระบบฐานข้อมูล\\n\"%Y-%m-%d %H:%M:%S.%f\" → 2025-03-06 14:30:45.123456\\n5. รูปแบบเวลา 12 ชั่วโมงและ 24 ชั่วโมง\\n\"%I:%M %p\" → 02:30 PM\\n\"%H:%M:%S\" → 14:30:45\\n'"
      ]
     },
     "execution_count": 4,
     "metadata": {},
     "output_type": "execute_result"
    }
   ],
   "source": [
    "#แสดงวันเวลาในกล้อง/วิดีโอ\n",
    "import cv2 \n",
    "import datetime\n",
    "\n",
    "cap = cv2.VideoCapture(0)\n",
    "while (cap.isOpened()):\n",
    "    check , frame = cap.read() #รับภาพจากกล้อง frame ต่อ frame\n",
    "\n",
    "    if check == True :\n",
    "        now = datetime.datetime.now()\n",
    "        currentDate = str(now.strftime(\"%A, %d %B %Y\"))\n",
    "        cv2.putText(frame,currentDate,(10,30),cv2.FONT_HERSHEY_SIMPLEX,0.8,(0,255,0),cv2.LINE_4)\n",
    "        cv2.imshow(\"Output\",frame)\n",
    "        if cv2.waitKey(1) & 0xFF == ord(\"e\"):\n",
    "            break\n",
    "    else :\n",
    "        break\n",
    "\n",
    "cap.release()\n",
    "cv2.destroyAllWindows()\n",
    "\"\"\"\n",
    "1. รูปแบบมาตรฐานที่ใช้กันทั่วไป\n",
    "\"%Y-%m-%d %H:%M:%S\" → 2025-03-06 14:30:45\n",
    "\"%d/%m/%Y %H:%M\" → 06/03/2025 14:30\n",
    "\"%A, %d %B %Y\" → Thursday, 06 March 2025\n",
    "2. ISO 8601\n",
    "datetime.now().isoformat() → 2025-03-06T14:30:45.123456\n",
    "3. รูปแบบ Timestamp (Unix Epoch)\n",
    "datetime.now().timestamp() → 1709731845.123456\n",
    "4. รูปแบบที่นิยมใช้ในระบบฐานข้อมูล\n",
    "\"%Y-%m-%d %H:%M:%S.%f\" → 2025-03-06 14:30:45.123456\n",
    "5. รูปแบบเวลา 12 ชั่วโมงและ 24 ชั่วโมง\n",
    "\"%I:%M %p\" → 02:30 PM\n",
    "\"%H:%M:%S\" → 14:30:45\n",
    "\"\"\"\n"
   ]
  },
  {
   "cell_type": "markdown",
   "metadata": {},
   "source": [
    "4. การใช้งาน Trackbar"
   ]
  },
  {
   "cell_type": "code",
   "execution_count": 8,
   "metadata": {},
   "outputs": [],
   "source": [
    "#การสร้าง TrackBar เบื้องต้น\n",
    "import cv2 \n",
    "import numpy as np\n",
    "\n",
    "\n",
    "img = np.zeros((200,250,3),np.uint8) #ขนาด สูง 200 px กว้าง 250 px 3 ช่องสี\n",
    "cv2.namedWindow(\"Color Trackbar\")\n",
    "\n",
    "def display(value):\n",
    "    pass\n",
    "\n",
    "#เริ่มต้นสร้าง Tracker\n",
    "cv2.createTrackbar(\"B\",\"Color Trackbar\",0,255,display)\n",
    "cv2.createTrackbar(\"G\",\"Color Trackbar\",0,255,display)\n",
    "cv2.createTrackbar(\"R\",\"Color Trackbar\",0,255,display)\n",
    "\n",
    "while True:\n",
    "    cv2.imshow(\"Color Trackbar\",img)\n",
    "    if cv2.waitKey(1) & 0xFF == ord(\"e\"):\n",
    "        break\n",
    "\n",
    "    #ดึงค่าจาก Trackber\n",
    "    blue = cv2.getTrackbarPos(\"B\",\"Color Trackbar\")\n",
    "    green = cv2.getTrackbarPos(\"G\",\"Color Trackbar\")\n",
    "    red = cv2.getTrackbarPos(\"R\",\"Color Trackbar\")\n",
    "\n",
    "    img[:] = [blue,green,red]\n",
    "\n",
    "cv2.destroyAllWindows()"
   ]
  },
  {
   "cell_type": "markdown",
   "metadata": {},
   "source": [
    "5. การหาค่าสีจากภาพ"
   ]
  },
  {
   "cell_type": "markdown",
   "metadata": {},
   "source": [
    "5.1 การหาค่าสีของภาพด้วย Mouse"
   ]
  },
  {
   "cell_type": "code",
   "execution_count": 3,
   "metadata": {},
   "outputs": [],
   "source": [
    "#ตรวจจับค่าสีด้วย Mouse\n",
    "import cv2\n",
    "img = cv2.imread(\"image/color.jpg\")\n",
    "\n",
    "def clickPosition(event,x,y,flags,param):\n",
    "    if event == cv2.EVENT_LBUTTONDOWN:\n",
    "        blue = img[y,x,0]\n",
    "        green = img[y,x,1]\n",
    "        red = img[y,x,2]\n",
    "\n",
    "        text = str(blue)+\",\"+str(green)+\",\"+str(red)\n",
    "        cv2.putText(img,text,(x,y),cv2.FONT_HERSHEY_SIMPLEX,0.8,(0,0,0),cv2.LINE_4)\n",
    "        cv2.imshow(\"Output\",img)\n",
    "\n",
    "#แสดงภาพ\n",
    "cv2.imshow(\"Output\",img)\n",
    "#ทำงานกับ Mouse\n",
    "cv2.setMouseCallback(\"Output\",clickPosition)\n",
    "cv2.waitKey(0)\n",
    "cv2.destroyAllWindows()"
   ]
  },
  {
   "cell_type": "markdown",
   "metadata": {},
   "source": [
    "5.2 การแปลงภาพเป็น binary ด้วยค่าสีสูงสุดต่ำสุด"
   ]
  },
  {
   "cell_type": "code",
   "execution_count": 3,
   "metadata": {},
   "outputs": [],
   "source": [
    "import cv2 \n",
    "import numpy as np\n",
    "while True :\n",
    "    img=cv2.imread(\"image/ball2d.jpg\")\n",
    "    # cv2.imshow(\"Before\",img)\n",
    "    img=cv2.resize(img,(400,400))\n",
    "\n",
    "    #ช่วงของสี BGR\n",
    "    lower = np.array([5,111,10])\n",
    "    upper = np.array([124,255,133])\n",
    "\n",
    "    mask=cv2.inRange(img,lower,upper)\n",
    "    result = cv2.bitwise_and(img,img,mask=mask) #คืนสีเดิมเข้าไปในภาพ\n",
    "    if cv2.waitKey(0) & 0xFF == ord(\"e\"):\n",
    "        break\n",
    "\n",
    "    cv2.imshow(\"Original\",img)\n",
    "    cv2.imshow(\"Mask\",mask)\n",
    "    cv2.imshow(\"Result\",result)\n",
    "\n",
    "cv2.destroyAllWindows()"
   ]
  },
  {
   "cell_type": "markdown",
   "metadata": {},
   "source": [
    "Excerise การแปลงภาพเป็น binary ด้วยค่าสีสูงสุดต่ำสุด และ Track bar"
   ]
  },
  {
   "cell_type": "code",
   "execution_count": 5,
   "metadata": {},
   "outputs": [],
   "source": [
    "#การสร้าง TrackBar เบื้องต้น\n",
    "import cv2 \n",
    "import numpy as np\n",
    "\n",
    "cv2.namedWindow(\"Color Trackbar\")\n",
    "cv2.namedWindow(\"Original\")\n",
    "cv2.namedWindow(\"Mask\")\n",
    "cv2.namedWindow(\"Result\")\n",
    "def display(value):\n",
    "    pass\n",
    "\n",
    "#เริ่มต้นสร้าง Tracker\n",
    "cv2.createTrackbar(\"B_low\",\"Color Trackbar\",0,255,display)\n",
    "cv2.createTrackbar(\"G_low\",\"Color Trackbar\",0,255,display)\n",
    "cv2.createTrackbar(\"R_low\",\"Color Trackbar\",0,255,display)\n",
    "\n",
    "cv2.createTrackbar(\"B_hight\",\"Color Trackbar\",254,254,display)\n",
    "cv2.createTrackbar(\"G_hight\",\"Color Trackbar\",254,254,display)\n",
    "cv2.createTrackbar(\"R_hight\",\"Color Trackbar\",254,254,display)\n",
    "\n",
    "cv2.createTrackbar(\"low_size\",\"Color Trackbar\",400,1000,display)\n",
    "cv2.createTrackbar(\"hight_size\",\"Color Trackbar\",400,1000,display)\n",
    "\n",
    "while True:\n",
    "    img = cv2.imread(\"image/ball2d.jpg\")\n",
    "    \n",
    "    #ดึงค่าจาก Trackber\n",
    "    blue_low = cv2.getTrackbarPos(\"B_low\",\"Color Trackbar\")\n",
    "    green_low = cv2.getTrackbarPos(\"G_low\",\"Color Trackbar\")\n",
    "    red_low = cv2.getTrackbarPos(\"R_low\",\"Color Trackbar\")\n",
    "\n",
    "    blue_hight = cv2.getTrackbarPos(\"B_hight\",\"Color Trackbar\")\n",
    "    green_hight = cv2.getTrackbarPos(\"G_hight\",\"Color Trackbar\")\n",
    "    red_hight = cv2.getTrackbarPos(\"R_hight\",\"Color Trackbar\")\n",
    "\n",
    "    low_size = cv2.getTrackbarPos(\"low_size\",\"Color Trackbar\")\n",
    "    hight_size = cv2.getTrackbarPos(\"hight_size\",\"Color Trackbar\")\n",
    "\n",
    "    img=cv2.resize(img,(low_size,hight_size))\n",
    "    #ช่วงของสี BGR\n",
    "    lower = np.array([blue_low,green_low,red_low])\n",
    "    upper = np.array([blue_hight,green_hight,red_hight])\n",
    "\n",
    "    \n",
    "\n",
    "    mask=cv2.inRange(img,lower,upper)\n",
    "    result = cv2.bitwise_and(img,img,mask=mask) #คืนสีเดิมเข้าไปในภาพ\n",
    "    cv2.imshow(\"Original\",img)\n",
    "    cv2.imshow(\"Mask\",mask)\n",
    "    cv2.imshow(\"Result\",result)\n",
    "\n",
    "    if cv2.waitKey(1) & 0xFF == ord(\"e\"):\n",
    "        break\n",
    "\n",
    "\n",
    "cv2.destroyAllWindows()"
   ]
  }
 ],
 "metadata": {
  "kernelspec": {
   "display_name": "training_camera",
   "language": "python",
   "name": "python3"
  },
  "language_info": {
   "codemirror_mode": {
    "name": "ipython",
    "version": 3
   },
   "file_extension": ".py",
   "mimetype": "text/x-python",
   "name": "python",
   "nbconvert_exporter": "python",
   "pygments_lexer": "ipython3",
   "version": "3.11.11"
  }
 },
 "nbformat": 4,
 "nbformat_minor": 2
}
